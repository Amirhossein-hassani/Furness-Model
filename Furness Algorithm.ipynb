{
 "cells": [
  {
   "cell_type": "markdown",
   "metadata": {},
   "source": [
    "# HW5\n",
    "\n",
    "Amirhossein Hassani - 99103803"
   ]
  },
  {
   "cell_type": "markdown",
   "metadata": {},
   "source": [
    "First we want to read the data from excel and do the operations on trip matrix, then give the final tripmatrix."
   ]
  },
  {
   "cell_type": "markdown",
   "metadata": {},
   "source": [
    "Importing Libraries"
   ]
  },
  {
   "cell_type": "code",
   "execution_count": 1,
   "metadata": {},
   "outputs": [],
   "source": [
    "import numpy as np\n",
    "import pandas as pd"
   ]
  },
  {
   "cell_type": "markdown",
   "metadata": {},
   "source": [
    "Calling the Data"
   ]
  },
  {
   "cell_type": "code",
   "execution_count": 2,
   "metadata": {},
   "outputs": [],
   "source": [
    "excel_file_path ='C:\\\\Users\\\\ASUS\\\\Desktop\\\\Uni\\\\Transportation planning\\\\Home works\\\\HW5-asli\\\\HW5.xlsx'\n",
    "\n",
    "trip_matrix = pd.read_excel(excel_file_path, sheet_name='Sheet1', skiprows=range(6,20), usecols=range(ord('B') - ord('A'), ord('F') - ord('A') + 1) , dtype=(float))\n",
    "production_pred_vector = pd.read_excel(excel_file_path, sheet_name='Sheet1', skiprows=(1,2,3,4,5,6,7,8,10), usecols=range(ord('B') - ord('A'), ord('F') - ord('A') + 1))\n",
    "attraction_pred_vector = pd.read_excel(excel_file_path, sheet_name='Sheet1', skiprows=(1,2,3,4,5,6,7,8,9), usecols=range(ord('B') - ord('A'), ord('F') - ord('A') + 1))"
   ]
  },
  {
   "cell_type": "markdown",
   "metadata": {},
   "source": [
    "Converting dataframes to numpy arrays and reshape them"
   ]
  },
  {
   "cell_type": "code",
   "execution_count": 3,
   "metadata": {},
   "outputs": [],
   "source": [
    "n = len(trip_matrix)\n",
    "production_pred_vector = np.array(production_pred_vector).reshape(n,)\n",
    "attraction_pred_vector = np.array(attraction_pred_vector).reshape(n,)\n",
    "trip_matrix = np.array(trip_matrix, dtype=float)"
   ]
  },
  {
   "cell_type": "markdown",
   "metadata": {},
   "source": [
    "Now we code the furness algorithm,\n",
    "First of all we calculate the sum of rows, and then we compute 'a' parameter, using that, now we can calculate the new trip_matrix.\n",
    "After calculation of the new trip_matrix, we calculate the sum of columns, and then we compute b parameter by dividing attraction_pred_vector by the sum of columns, using that, now we can calculate the new trip_matrix again.\n",
    "\n",
    "We repeat this algorithm until the final error is below 1%, and when this happens, we no longer iterate. In essence, the resulting matrix is finalized.\n"
   ]
  },
  {
   "cell_type": "code",
   "execution_count": 4,
   "metadata": {},
   "outputs": [],
   "source": [
    "Iteration=0\n",
    "while True:\n",
    "    row_sums = np.sum(trip_matrix, axis=1)\n",
    "\n",
    "    a = production_pred_vector / row_sums\n",
    "    trip_matrix *= a[:, np.newaxis]\n",
    "    \n",
    "    col_sums = np.sum(trip_matrix, axis=0)\n",
    "    b = attraction_pred_vector / col_sums\n",
    "\n",
    "    # Element-wise multiplication of each column by the corresponding component of b\n",
    "    for i in range(trip_matrix.shape[1]):\n",
    "        trip_matrix[:, i] *= b[i]\n",
    "        \n",
    "    row_sums = np.sum(trip_matrix, axis=1)\n",
    "    col_sums = np.sum(trip_matrix, axis=0)\n",
    "    \n",
    "    E=[]\n",
    "    for i in range (n):\n",
    "        new_error = abs(row_sums[i]-production_pred_vector[i]) + abs(col_sums[i]-attraction_pred_vector[i])\n",
    "        E.append(new_error)\n",
    "    new_error = sum(E)\n",
    "    \n",
    "    Iteration += 1\n",
    "    \n",
    "    if abs(new_error) < 0.01:\n",
    "        break"
   ]
  },
  {
   "cell_type": "markdown",
   "metadata": {},
   "source": [
    "Converting trip_matrix to dataframe"
   ]
  },
  {
   "cell_type": "code",
   "execution_count": 5,
   "metadata": {},
   "outputs": [],
   "source": [
    "trip_matrix = pd.DataFrame(trip_matrix)"
   ]
  },
  {
   "cell_type": "code",
   "execution_count": 6,
   "metadata": {},
   "outputs": [
    {
     "data": {
      "text/html": [
       "<div>\n",
       "<style scoped>\n",
       "    .dataframe tbody tr th:only-of-type {\n",
       "        vertical-align: middle;\n",
       "    }\n",
       "\n",
       "    .dataframe tbody tr th {\n",
       "        vertical-align: top;\n",
       "    }\n",
       "\n",
       "    .dataframe thead th {\n",
       "        text-align: right;\n",
       "    }\n",
       "</style>\n",
       "<table border=\"1\" class=\"dataframe\">\n",
       "  <thead>\n",
       "    <tr style=\"text-align: right;\">\n",
       "      <th></th>\n",
       "      <th>0</th>\n",
       "      <th>1</th>\n",
       "      <th>2</th>\n",
       "      <th>3</th>\n",
       "      <th>4</th>\n",
       "    </tr>\n",
       "  </thead>\n",
       "  <tbody>\n",
       "    <tr>\n",
       "      <th>0</th>\n",
       "      <td>44.146060</td>\n",
       "      <td>39.326680</td>\n",
       "      <td>18.764248</td>\n",
       "      <td>116.075146</td>\n",
       "      <td>21.688781</td>\n",
       "    </tr>\n",
       "    <tr>\n",
       "      <th>1</th>\n",
       "      <td>56.626696</td>\n",
       "      <td>34.860972</td>\n",
       "      <td>46.717518</td>\n",
       "      <td>135.532856</td>\n",
       "      <td>76.262854</td>\n",
       "    </tr>\n",
       "    <tr>\n",
       "      <th>2</th>\n",
       "      <td>63.254677</td>\n",
       "      <td>78.459592</td>\n",
       "      <td>19.268551</td>\n",
       "      <td>28.837440</td>\n",
       "      <td>80.178059</td>\n",
       "    </tr>\n",
       "    <tr>\n",
       "      <th>3</th>\n",
       "      <td>96.774157</td>\n",
       "      <td>52.211339</td>\n",
       "      <td>24.912007</td>\n",
       "      <td>86.994770</td>\n",
       "      <td>69.107301</td>\n",
       "    </tr>\n",
       "    <tr>\n",
       "      <th>4</th>\n",
       "      <td>39.198410</td>\n",
       "      <td>15.141417</td>\n",
       "      <td>50.337676</td>\n",
       "      <td>52.559788</td>\n",
       "      <td>46.763005</td>\n",
       "    </tr>\n",
       "  </tbody>\n",
       "</table>\n",
       "</div>"
      ],
      "text/plain": [
       "           0          1          2           3          4\n",
       "0  44.146060  39.326680  18.764248  116.075146  21.688781\n",
       "1  56.626696  34.860972  46.717518  135.532856  76.262854\n",
       "2  63.254677  78.459592  19.268551   28.837440  80.178059\n",
       "3  96.774157  52.211339  24.912007   86.994770  69.107301\n",
       "4  39.198410  15.141417  50.337676   52.559788  46.763005"
      ]
     },
     "execution_count": 6,
     "metadata": {},
     "output_type": "execute_result"
    }
   ],
   "source": [
    "trip_matrix"
   ]
  },
  {
   "cell_type": "code",
   "execution_count": 7,
   "metadata": {},
   "outputs": [
    {
     "data": {
      "text/plain": [
       "0.004214435073635059"
      ]
     },
     "execution_count": 7,
     "metadata": {},
     "output_type": "execute_result"
    }
   ],
   "source": [
    "new_error"
   ]
  },
  {
   "cell_type": "code",
   "execution_count": 8,
   "metadata": {},
   "outputs": [
    {
     "data": {
      "text/plain": [
       "5"
      ]
     },
     "execution_count": 8,
     "metadata": {},
     "output_type": "execute_result"
    }
   ],
   "source": [
    "Iteration"
   ]
  },
  {
   "cell_type": "markdown",
   "metadata": {},
   "source": [
    "Now, we intend to transform the above code into a function in such a way that the initial trip matrix\n",
    "and the vectors related to the production and attraction vectors are considered as inputs.\n",
    "The output of the function should be the final matrix of travel distribution among zones with a maximum error of 1%."
   ]
  },
  {
   "cell_type": "code",
   "execution_count": 48,
   "metadata": {},
   "outputs": [],
   "source": [
    "def adjust_trip_matrix(trip_matrix, production_pred_vector, attraction_pred_vector):\n",
    "    \n",
    "    n = len(trip_matrix)\n",
    "    production_pred_vector = np.array(production_pred_vector).reshape(n,)\n",
    "    attraction_pred_vector = np.array(attraction_pred_vector).reshape(n,)\n",
    "    trip_matrix = np.array(trip_matrix, dtype=float)\n",
    "\n",
    "    Iteration=0\n",
    "    \n",
    "    while True:\n",
    "        row_sums = np.sum(trip_matrix, axis=1)\n",
    "\n",
    "        a = production_pred_vector / row_sums\n",
    "        trip_matrix *= a[:, np.newaxis]\n",
    "\n",
    "        col_sums = np.sum(trip_matrix, axis=0)\n",
    "        b = attraction_pred_vector / col_sums\n",
    "\n",
    "        # Element-wise multiplication of each column by the corresponding component of b\n",
    "        for i in range(trip_matrix.shape[1]):\n",
    "            trip_matrix[:, i] *= b[i]\n",
    "\n",
    "        row_sums = np.sum(trip_matrix, axis=1)\n",
    "        col_sums = np.sum(trip_matrix, axis=0)\n",
    "\n",
    "        E=[]\n",
    "        for i in range (n):\n",
    "            new_error = abs(row_sums[i]-production_pred_vector[i]) + abs(col_sums[i]-attraction_pred_vector[i])\n",
    "            E.append(new_error)\n",
    "        new_error = sum(E)\n",
    "\n",
    "        Iteration += 1\n",
    "\n",
    "        if abs(new_error) < 0.01:\n",
    "            break\n",
    "\n",
    "    trip_matrix = pd.DataFrame(trip_matrix)\n",
    "    return trip_matrix\n",
    "    \n",
    "\n"
   ]
  },
  {
   "cell_type": "markdown",
   "metadata": {},
   "source": [
    "Now, let's proceed to test the created function."
   ]
  },
  {
   "cell_type": "code",
   "execution_count": 50,
   "metadata": {},
   "outputs": [],
   "source": [
    "production_pred_vector = np.array([240, 350, 270, 330, 204])\n",
    "attraction_pred_vector = np.array([300, 220, 160, 420, 294])\n",
    "\n",
    "trip_matrix = matrix=np.array([[43,35, 18, 62, 25],\n",
    "                                 [32, 18, 26, 42, 51],\n",
    "                                 [60, 68, 18, 15, 90],\n",
    "                                 [71, 35, 18, 35, 60],\n",
    "                                 [34, 12, 43, 25, 48]]\n",
    "                                , dtype=float)"
   ]
  },
  {
   "cell_type": "code",
   "execution_count": 51,
   "metadata": {},
   "outputs": [
    {
     "data": {
      "text/html": [
       "<div>\n",
       "<style scoped>\n",
       "    .dataframe tbody tr th:only-of-type {\n",
       "        vertical-align: middle;\n",
       "    }\n",
       "\n",
       "    .dataframe tbody tr th {\n",
       "        vertical-align: top;\n",
       "    }\n",
       "\n",
       "    .dataframe thead th {\n",
       "        text-align: right;\n",
       "    }\n",
       "</style>\n",
       "<table border=\"1\" class=\"dataframe\">\n",
       "  <thead>\n",
       "    <tr style=\"text-align: right;\">\n",
       "      <th></th>\n",
       "      <th>0</th>\n",
       "      <th>1</th>\n",
       "      <th>2</th>\n",
       "      <th>3</th>\n",
       "      <th>4</th>\n",
       "    </tr>\n",
       "  </thead>\n",
       "  <tbody>\n",
       "    <tr>\n",
       "      <th>0</th>\n",
       "      <td>44.146060</td>\n",
       "      <td>39.326680</td>\n",
       "      <td>18.764248</td>\n",
       "      <td>116.075146</td>\n",
       "      <td>21.688781</td>\n",
       "    </tr>\n",
       "    <tr>\n",
       "      <th>1</th>\n",
       "      <td>56.626696</td>\n",
       "      <td>34.860972</td>\n",
       "      <td>46.717518</td>\n",
       "      <td>135.532856</td>\n",
       "      <td>76.262854</td>\n",
       "    </tr>\n",
       "    <tr>\n",
       "      <th>2</th>\n",
       "      <td>63.254677</td>\n",
       "      <td>78.459592</td>\n",
       "      <td>19.268551</td>\n",
       "      <td>28.837440</td>\n",
       "      <td>80.178059</td>\n",
       "    </tr>\n",
       "    <tr>\n",
       "      <th>3</th>\n",
       "      <td>96.774157</td>\n",
       "      <td>52.211339</td>\n",
       "      <td>24.912007</td>\n",
       "      <td>86.994770</td>\n",
       "      <td>69.107301</td>\n",
       "    </tr>\n",
       "    <tr>\n",
       "      <th>4</th>\n",
       "      <td>39.198410</td>\n",
       "      <td>15.141417</td>\n",
       "      <td>50.337676</td>\n",
       "      <td>52.559788</td>\n",
       "      <td>46.763005</td>\n",
       "    </tr>\n",
       "  </tbody>\n",
       "</table>\n",
       "</div>"
      ],
      "text/plain": [
       "           0          1          2           3          4\n",
       "0  44.146060  39.326680  18.764248  116.075146  21.688781\n",
       "1  56.626696  34.860972  46.717518  135.532856  76.262854\n",
       "2  63.254677  78.459592  19.268551   28.837440  80.178059\n",
       "3  96.774157  52.211339  24.912007   86.994770  69.107301\n",
       "4  39.198410  15.141417  50.337676   52.559788  46.763005"
      ]
     },
     "execution_count": 51,
     "metadata": {},
     "output_type": "execute_result"
    }
   ],
   "source": [
    "adjust_trip_matrix(trip_matrix, production_pred_vector, attraction_pred_vector)"
   ]
  },
  {
   "cell_type": "markdown",
   "metadata": {},
   "source": [
    "We can define the function in a way that it takes inputs from the user itself, and essentially, the input reception is done inside the function. To achieve this, we need to follow the codebelow. "
   ]
  },
  {
   "cell_type": "markdown",
   "metadata": {},
   "source": [
    "In this new function if you give a wrong input you must correct your input and the function will give you a warning that you type an invalid value "
   ]
  },
  {
   "cell_type": "code",
   "execution_count": null,
   "metadata": {},
   "outputs": [],
   "source": [
    "def adjust_trip_matrix():\n",
    "    \n",
    "    while True:\n",
    "        try:\n",
    "            print(\"What is your Matrix Shape:\")\n",
    "            n = int(input())\n",
    "            if n <= 0:\n",
    "                raise ValueError(\"Matrix shape must be a positive integer.\")\n",
    "    \n",
    "            rows = n\n",
    "            cols = n\n",
    "    \n",
    "            while True:\n",
    "                try:\n",
    "                    print(\"Enter the elements of the matrix separated by space:\")\n",
    "                    # Taking input in a single line and reshaping into a matrix\n",
    "                    elements = list(map(int, input().split()))\n",
    "                    trip_matrix = np.array(elements).reshape(rows, cols)\n",
    "                    break\n",
    "                except ValueError:\n",
    "                    print(\"Invalid input for matrix. Please enter valid integers separated by space.\")\n",
    "    \n",
    "            print(\"Enter the elements of the production prediction vector for zones (separated by space):\")\n",
    "            while True:\n",
    "                try:\n",
    "                    production_pred_vector = list(map(int, input().split()))\n",
    "                    if len(production_pred_vector) != n:\n",
    "                        raise ValueError(f\"Expected {n} elements for production prediction vector.\")\n",
    "                    break\n",
    "                except ValueError:\n",
    "                    print(\"Invalid input for production prediction vector. Please enter valid integers separated by space.\")\n",
    "                    \n",
    "            print(\"Enter the elements of the attraction prediction vector for zones (separated by space):\")\n",
    "            while True:\n",
    "                try:\n",
    "                    attraction_pred_vector = list(map(int, input().split()))\n",
    "                    if len(attraction_pred_vector) != n:\n",
    "                        raise ValueError(f\"Expected {n} elements for attraction prediction vector.\")\n",
    "                    break\n",
    "                except ValueError:\n",
    "                        print(\"Invalid input for attraction prediction vector. Please enter a valid integer.\")\n",
    "    \n",
    "            break  # If input is valid, exit the loop\n",
    "        except ValueError as e:\n",
    "            print(f\"Invalid input. {e} Please try again.\")\n",
    "       \n",
    "    \n",
    "    n = len(trip_matrix)\n",
    "    production_pred_vector = np.array(production_pred_vector).reshape(n,)\n",
    "    attraction_pred_vector = np.array(attraction_pred_vector).reshape(n,)\n",
    "    trip_matrix = np.array(trip_matrix, dtype=float)\n",
    "\n",
    "    Iteration = 0\n",
    "    while True:\n",
    "        row_sums = np.sum(trip_matrix, axis=1)\n",
    "\n",
    "        a = production_pred_vector / row_sums\n",
    "        trip_matrix *= a[:, np.newaxis]\n",
    "\n",
    "        col_sums = np.sum(trip_matrix, axis=0)\n",
    "        b = attraction_pred_vector / col_sums\n",
    "\n",
    "        # Element-wise multiplication of each column by the corresponding component of b\n",
    "        for i in range(trip_matrix.shape[1]):\n",
    "            trip_matrix[:, i] *= b[i]\n",
    "            \n",
    "        row_sums = np.sum(trip_matrix, axis=1)\n",
    "        col_sums = np.sum(trip_matrix, axis=0)\n",
    "\n",
    "        E=[]\n",
    "        for i in range (n):\n",
    "            new_error = abs(row_sums[i]-production_pred_vector[i]) + abs(col_sums[i]-attraction_pred_vector[i])\n",
    "            E.append(new_error)\n",
    "        new_error = sum(E)\n",
    "        \n",
    "        Iteration += 1\n",
    "\n",
    "        if abs(new_error) < 0.01:\n",
    "            break\n",
    "    trip_matrix = pd.DataFrame(trip_matrix)\n",
    "    return trip_matrix\n",
    "\n"
   ]
  },
  {
   "cell_type": "code",
   "execution_count": 54,
   "metadata": {
    "scrolled": false
   },
   "outputs": [
    {
     "name": "stdout",
     "output_type": "stream",
     "text": [
      "What is your Matrix Shape:\n",
      "5\n",
      "Enter the elements of the matrix separated by space:\n",
      "43 35 18 62 25 32 18 26 42 51 60 68 18 15 90 71 35 18 35 60 34 12 43 25 48\n",
      "Enter the elements of the production prediction vector for zones (separated by space):\n",
      "240 350 270 330 204 \n",
      "Enter the elements of the attraction prediction vector for zones (separated by space):\n",
      "300 220 160 420 294\n"
     ]
    },
    {
     "data": {
      "text/html": [
       "<div>\n",
       "<style scoped>\n",
       "    .dataframe tbody tr th:only-of-type {\n",
       "        vertical-align: middle;\n",
       "    }\n",
       "\n",
       "    .dataframe tbody tr th {\n",
       "        vertical-align: top;\n",
       "    }\n",
       "\n",
       "    .dataframe thead th {\n",
       "        text-align: right;\n",
       "    }\n",
       "</style>\n",
       "<table border=\"1\" class=\"dataframe\">\n",
       "  <thead>\n",
       "    <tr style=\"text-align: right;\">\n",
       "      <th></th>\n",
       "      <th>0</th>\n",
       "      <th>1</th>\n",
       "      <th>2</th>\n",
       "      <th>3</th>\n",
       "      <th>4</th>\n",
       "    </tr>\n",
       "  </thead>\n",
       "  <tbody>\n",
       "    <tr>\n",
       "      <th>0</th>\n",
       "      <td>44.146060</td>\n",
       "      <td>39.326680</td>\n",
       "      <td>18.764248</td>\n",
       "      <td>116.075146</td>\n",
       "      <td>21.688781</td>\n",
       "    </tr>\n",
       "    <tr>\n",
       "      <th>1</th>\n",
       "      <td>56.626696</td>\n",
       "      <td>34.860972</td>\n",
       "      <td>46.717518</td>\n",
       "      <td>135.532856</td>\n",
       "      <td>76.262854</td>\n",
       "    </tr>\n",
       "    <tr>\n",
       "      <th>2</th>\n",
       "      <td>63.254677</td>\n",
       "      <td>78.459592</td>\n",
       "      <td>19.268551</td>\n",
       "      <td>28.837440</td>\n",
       "      <td>80.178059</td>\n",
       "    </tr>\n",
       "    <tr>\n",
       "      <th>3</th>\n",
       "      <td>96.774157</td>\n",
       "      <td>52.211339</td>\n",
       "      <td>24.912007</td>\n",
       "      <td>86.994770</td>\n",
       "      <td>69.107301</td>\n",
       "    </tr>\n",
       "    <tr>\n",
       "      <th>4</th>\n",
       "      <td>39.198410</td>\n",
       "      <td>15.141417</td>\n",
       "      <td>50.337676</td>\n",
       "      <td>52.559788</td>\n",
       "      <td>46.763005</td>\n",
       "    </tr>\n",
       "  </tbody>\n",
       "</table>\n",
       "</div>"
      ],
      "text/plain": [
       "           0          1          2           3          4\n",
       "0  44.146060  39.326680  18.764248  116.075146  21.688781\n",
       "1  56.626696  34.860972  46.717518  135.532856  76.262854\n",
       "2  63.254677  78.459592  19.268551   28.837440  80.178059\n",
       "3  96.774157  52.211339  24.912007   86.994770  69.107301\n",
       "4  39.198410  15.141417  50.337676   52.559788  46.763005"
      ]
     },
     "execution_count": 54,
     "metadata": {},
     "output_type": "execute_result"
    }
   ],
   "source": [
    "adjust_trip_matrix()"
   ]
  }
 ],
 "metadata": {
  "kernelspec": {
   "display_name": "Python 3",
   "language": "python",
   "name": "python3"
  },
  "language_info": {
   "codemirror_mode": {
    "name": "ipython",
    "version": 3
   },
   "file_extension": ".py",
   "mimetype": "text/x-python",
   "name": "python",
   "nbconvert_exporter": "python",
   "pygments_lexer": "ipython3",
   "version": "3.8.3"
  }
 },
 "nbformat": 4,
 "nbformat_minor": 4
}
